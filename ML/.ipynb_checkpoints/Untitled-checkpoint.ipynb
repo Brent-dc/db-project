{
 "cells": [
  {
   "cell_type": "code",
   "execution_count": 3,
   "id": "f00fc205",
   "metadata": {},
   "outputs": [
    {
     "ename": "ModuleNotFoundError",
     "evalue": "No module named 'sklearn'",
     "output_type": "error",
     "traceback": [
      "\u001b[1;31m---------------------------------------------------------------------------\u001b[0m",
      "\u001b[1;31mModuleNotFoundError\u001b[0m                       Traceback (most recent call last)",
      "Cell \u001b[1;32mIn[3], line 1\u001b[0m\n\u001b[1;32m----> 1\u001b[0m \u001b[38;5;28;01mfrom\u001b[39;00m \u001b[38;5;21;01msklearn\u001b[39;00m\u001b[38;5;21;01m.\u001b[39;00m\u001b[38;5;21;01mpreprocessing\u001b[39;00m \u001b[38;5;28;01mimport\u001b[39;00m StandardScaler\n\u001b[0;32m      2\u001b[0m \u001b[38;5;28;01mfrom\u001b[39;00m \u001b[38;5;21;01msklearn\u001b[39;00m\u001b[38;5;21;01m.\u001b[39;00m\u001b[38;5;21;01mmodel_selection\u001b[39;00m \u001b[38;5;28;01mimport\u001b[39;00m train_test_split\n\u001b[0;32m      3\u001b[0m \u001b[38;5;28;01mimport\u001b[39;00m \u001b[38;5;21;01mmatplotlib\u001b[39;00m\u001b[38;5;21;01m.\u001b[39;00m\u001b[38;5;21;01mpyplot\u001b[39;00m \u001b[38;5;28;01mas\u001b[39;00m \u001b[38;5;21;01mplt\u001b[39;00m\n",
      "\u001b[1;31mModuleNotFoundError\u001b[0m: No module named 'sklearn'"
     ]
    }
   ],
   "source": [
    "from sklearn.preprocessing import StandardScaler\n",
    "from sklearn.model_selection import train_test_split\n",
    "import matplotlib.pyplot as plt\n",
    "import pandas as pd\n",
    "import keras\n",
    "from keras.wrappers.scikit_learn import KerasRegressor\n",
    "from sklearn.model_selection import RandomizedSearchCV\n",
    "import tensorflow as tf\n",
    "import keras.metrics\n",
    "import numpy as np\n",
    "import joblib\n",
    "from scipy.stats import reciprocal\n"
   ]
  },
  {
   "cell_type": "code",
   "execution_count": null,
   "id": "06271bbe",
   "metadata": {},
   "outputs": [],
   "source": []
  },
  {
   "cell_type": "code",
   "execution_count": null,
   "id": "aad7a731",
   "metadata": {},
   "outputs": [],
   "source": [
    "def return_model(n_hidden = 1 , n_neurons=30, learning_rate = 0.01, input_shape = X_train.shape[1:]):\n",
    "    model = keras.models.Sequential()\n",
    "    model.add(keras.layers.InputLayer(input_shape = input_shape))\n",
    "    for layer in range(n_hidden):\n",
    "        model.add(keras.layers.Dense(n_neurons, activation=\"relu\",  activity_regularizer=l1(0.01)))\n",
    "        model.add(Dropout(0.3))\n",
    "\n",
    "    model.add(keras.layers.Dense(1))\n",
    "    optimizer = keras.optimizers.SGD(learning_rate = learning_rate)\n",
    "    model.compile(optimizer=optimizer, loss= 'mse')\n",
    "    return model "
   ]
  },
  {
   "cell_type": "code",
   "execution_count": null,
   "id": "6355c199",
   "metadata": {},
   "outputs": [],
   "source": [
    "sheet = pd.read_excel(r\"data-1673881567516.xlsx\")\n",
    "print(sheet.info())\n",
    "\n",
    "sheet = sheet.dropna()\n",
    "features = sheet.iloc[:,1:4]\n",
    "result = sheet.iloc[:,4:]\n",
    "print(features)\n",
    "X_train,X_test, y_train, y_test = train_test_split(features,result.iloc[:,3], test_size = 0.05)\n",
    "X_train,X_val, y_train, y_val = train_test_split(X_train, y_train, test_size = 0.1)"
   ]
  },
  {
   "cell_type": "code",
   "execution_count": null,
   "id": "7f607453",
   "metadata": {},
   "outputs": [],
   "source": [
    "scaler = StandardScaler()\n",
    "X_train = scaler.fit_transform(X_train)\n",
    "X_test = scaler.fit_transform(X_test)\n",
    "X_valid = scaler.fit_transform(X_val)\n",
    "print(X_train.shape[1:])\n",
    "batch_size = [10, 20, 40, 60, 80, 100, 1000]\n",
    "epochs = [10, 50, 100, 200, 500]\n",
    "param_grid = dict(batch_size=batch_size, epochs=epochs)"
   ]
  },
  {
   "cell_type": "code",
   "execution_count": null,
   "id": "2fc863e0",
   "metadata": {},
   "outputs": [],
   "source": [
    "model = KerasRegressor(return_model)\n",
    "param_dist = {\n",
    "    \"n_hidden\":[0,1,2,3,4,5,6],\n",
    "    \"n_neurons\":np.arange(1,250),\n",
    "    \"learning_rate\":reciprocal(3e-5, 3e-2)\n",
    "}\n",
    "print(y_test)\n",
    "print(X_test)\n",
    "print(y_train)\n",
    "rnd_mod = RandomizedSearchCV(model, param_distributions=param_dist, n_iter= 50, cv=5)\n",
    "rnd_mod.fit(X_train, y_train, epochs= 20, validation_data=(X_test, y_test))\n",
    "\n",
    "joblib.dump(rnd_mod, 'model.pkl')"
   ]
  },
  {
   "cell_type": "code",
   "execution_count": null,
   "id": "aaed79d3",
   "metadata": {},
   "outputs": [],
   "source": [
    "print(rnd_mod.predict(X_val))\n",
    "print(y_val)\n"
   ]
  }
 ],
 "metadata": {
  "kernelspec": {
   "display_name": "Python 3 (ipykernel)",
   "language": "python",
   "name": "python3"
  },
  "language_info": {
   "codemirror_mode": {
    "name": "ipython",
    "version": 3
   },
   "file_extension": ".py",
   "mimetype": "text/x-python",
   "name": "python",
   "nbconvert_exporter": "python",
   "pygments_lexer": "ipython3",
   "version": "3.10.9"
  }
 },
 "nbformat": 4,
 "nbformat_minor": 5
}
